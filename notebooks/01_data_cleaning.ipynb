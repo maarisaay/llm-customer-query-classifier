{
 "cells": [
  {
   "cell_type": "code",
   "id": "initial_id",
   "metadata": {
    "collapsed": true,
    "ExecuteTime": {
     "end_time": "2025-10-26T21:35:58.096080Z",
     "start_time": "2025-10-26T21:35:57.698064Z"
    }
   },
   "source": [
    "from app.ingestion import run_ingestion_pipeline\n",
    "from pathlib import Path"
   ],
   "outputs": [],
   "execution_count": 1
  },
  {
   "metadata": {
    "ExecuteTime": {
     "end_time": "2025-10-26T21:35:59.288565Z",
     "start_time": "2025-10-26T21:35:58.895900Z"
    }
   },
   "cell_type": "code",
   "source": [
    "data_path = Path.cwd().parent / \"data\" / \"messages_02.csv\"\n",
    "df_clean = run_ingestion_pipeline(data_path)"
   ],
   "id": "c217369d411d3b2f",
   "outputs": [
    {
     "name": "stdout",
     "output_type": "stream",
     "text": [
      "Loaded 5 rows from C:\\Users\\marty\\PycharmProjects\\llm-customer-query-classifier\\data\\messages_02.csv\n",
      "Cleaned 5 messages\n"
     ]
    }
   ],
   "execution_count": 2
  },
  {
   "metadata": {
    "ExecuteTime": {
     "end_time": "2025-10-26T21:36:00.593623Z",
     "start_time": "2025-10-26T21:36:00.570245Z"
    }
   },
   "cell_type": "code",
   "source": [
    "print(f\"Loaded and cleaned {len(df_clean)} messages\")\n",
    "df_clean[[\"message\", \"clean_message\", \"language\", \"has_pii\"]].head()"
   ],
   "id": "c327797c7b78dacc",
   "outputs": [
    {
     "name": "stdout",
     "output_type": "stream",
     "text": [
      "Loaded and cleaned 5 messages\n"
     ]
    },
    {
     "data": {
      "text/plain": [
       "                                             message  \\\n",
       "0  Hello, I was charged twice!!! 😡 Please fix thi...   \n",
       "1  My password reset link doesn’t work. Can you h...   \n",
       "2  When will my subscription renew? I want to can...   \n",
       "3                   hi <br> invoice 223 paid? thanks   \n",
       "4  Nie mogę zalogować się na moje konto, mimo że ...   \n",
       "\n",
       "                                       clean_message language  has_pii  \n",
       "0  hello i was charged twice please fix this asap...       en    False  \n",
       "1  my password reset link doesn t work can you he...       en    False  \n",
       "2  when will my subscription renew i want to canc...       en    False  \n",
       "3                       hi invoice [num] paid thanks       en     True  \n",
       "4  nie mogę zalogować się na moje konto mimo że h...       pl    False  "
      ],
      "text/html": [
       "<div>\n",
       "<style scoped>\n",
       "    .dataframe tbody tr th:only-of-type {\n",
       "        vertical-align: middle;\n",
       "    }\n",
       "\n",
       "    .dataframe tbody tr th {\n",
       "        vertical-align: top;\n",
       "    }\n",
       "\n",
       "    .dataframe thead th {\n",
       "        text-align: right;\n",
       "    }\n",
       "</style>\n",
       "<table border=\"1\" class=\"dataframe\">\n",
       "  <thead>\n",
       "    <tr style=\"text-align: right;\">\n",
       "      <th></th>\n",
       "      <th>message</th>\n",
       "      <th>clean_message</th>\n",
       "      <th>language</th>\n",
       "      <th>has_pii</th>\n",
       "    </tr>\n",
       "  </thead>\n",
       "  <tbody>\n",
       "    <tr>\n",
       "      <th>0</th>\n",
       "      <td>Hello, I was charged twice!!! 😡 Please fix thi...</td>\n",
       "      <td>hello i was charged twice please fix this asap...</td>\n",
       "      <td>en</td>\n",
       "      <td>False</td>\n",
       "    </tr>\n",
       "    <tr>\n",
       "      <th>1</th>\n",
       "      <td>My password reset link doesn’t work. Can you h...</td>\n",
       "      <td>my password reset link doesn t work can you he...</td>\n",
       "      <td>en</td>\n",
       "      <td>False</td>\n",
       "    </tr>\n",
       "    <tr>\n",
       "      <th>2</th>\n",
       "      <td>When will my subscription renew? I want to can...</td>\n",
       "      <td>when will my subscription renew i want to canc...</td>\n",
       "      <td>en</td>\n",
       "      <td>False</td>\n",
       "    </tr>\n",
       "    <tr>\n",
       "      <th>3</th>\n",
       "      <td>hi &lt;br&gt; invoice 223 paid? thanks</td>\n",
       "      <td>hi invoice [num] paid thanks</td>\n",
       "      <td>en</td>\n",
       "      <td>True</td>\n",
       "    </tr>\n",
       "    <tr>\n",
       "      <th>4</th>\n",
       "      <td>Nie mogę zalogować się na moje konto, mimo że ...</td>\n",
       "      <td>nie mogę zalogować się na moje konto mimo że h...</td>\n",
       "      <td>pl</td>\n",
       "      <td>False</td>\n",
       "    </tr>\n",
       "  </tbody>\n",
       "</table>\n",
       "</div>"
      ]
     },
     "execution_count": 3,
     "metadata": {},
     "output_type": "execute_result"
    }
   ],
   "execution_count": 3
  }
 ],
 "metadata": {
  "kernelspec": {
   "display_name": "Python 3",
   "language": "python",
   "name": "python3"
  },
  "language_info": {
   "codemirror_mode": {
    "name": "ipython",
    "version": 2
   },
   "file_extension": ".py",
   "mimetype": "text/x-python",
   "name": "python",
   "nbconvert_exporter": "python",
   "pygments_lexer": "ipython2",
   "version": "2.7.6"
  }
 },
 "nbformat": 4,
 "nbformat_minor": 5
}
