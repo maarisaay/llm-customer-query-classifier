{
 "cells": [
  {
   "cell_type": "code",
   "id": "initial_id",
   "metadata": {
    "collapsed": true,
    "ExecuteTime": {
     "end_time": "2025-10-26T22:38:11.690703Z",
     "start_time": "2025-10-26T22:38:11.682647Z"
    }
   },
   "source": [
    "from langchain_core.prompts import PromptTemplate\n",
    "from langchain_core.output_parsers import StrOutputParser\n",
    "from app.config import get_llm\n",
    "import pandas as pd"
   ],
   "outputs": [],
   "execution_count": 7
  },
  {
   "metadata": {
    "ExecuteTime": {
     "end_time": "2025-10-26T22:38:12.562046Z",
     "start_time": "2025-10-26T22:38:12.556449Z"
    }
   },
   "cell_type": "code",
   "source": "llm = get_llm()",
   "id": "4ce2391b7439a0fb",
   "outputs": [],
   "execution_count": 8
  },
  {
   "metadata": {
    "ExecuteTime": {
     "end_time": "2025-10-26T22:39:06.964260Z",
     "start_time": "2025-10-26T22:39:06.958355Z"
    }
   },
   "cell_type": "code",
   "source": "parser = StrOutputParser()",
   "id": "b79375bb3e0de0e",
   "outputs": [],
   "execution_count": 14
  },
  {
   "metadata": {
    "ExecuteTime": {
     "end_time": "2025-10-26T22:40:05.233439Z",
     "start_time": "2025-10-26T22:40:05.221822Z"
    }
   },
   "cell_type": "code",
   "source": [
    "test_queries = [\n",
    "    \"I was charged twice for my last invoice.\",\n",
    "    \"My password reset link doesn’t work.\",\n",
    "    \"Can I change my email address for notifications?\",\n",
    "    \"Nie mogę zalogować się na moje konto mimo poprawnego hasła.\",\n",
    "    \"Please cancel my subscription immediately.\",\n",
    "]"
   ],
   "id": "86c86ef49b1537b3",
   "outputs": [],
   "execution_count": 18
  },
  {
   "metadata": {
    "ExecuteTime": {
     "end_time": "2025-10-26T22:40:05.242116Z",
     "start_time": "2025-10-26T22:40:05.237343Z"
    }
   },
   "cell_type": "code",
   "source": [
    "prompts = {\n",
    "    \"baseline\": PromptTemplate.from_template(\n",
    "        \"Classify the following customer message into one of these categories: \"\n",
    "        \"Billing, Account, Technical Issue, or Other.\\n\\n\"\n",
    "        \"Message: {query}\\n\"\n",
    "        \"Answer:\"\n",
    "    ),\n",
    "    \"json_schema\": PromptTemplate.from_template(\n",
    "        \"You are a customer support ticket classifier. \"\n",
    "        \"Analyze the message and respond ONLY as valid JSON:\\n\"\n",
    "        \"{{\\\"category\\\": \\\"Billing|Account|Technical|Other\\\", \\\"confidence\\\": <0-1>}}\\n\\n\"\n",
    "        \"Message: {query}\"\n",
    "    ),\n",
    "    \"few_shot\": PromptTemplate.from_template(\n",
    "        \"You are a support classifier. Based on examples:\\n\"\n",
    "        \"- 'I was charged twice' → Billing\\n\"\n",
    "        \"- 'I forgot my password' → Account\\n\"\n",
    "        \"- 'My app crashes' → Technical Issue\\n\\n\"\n",
    "        \"Now classify this message:\\n{query}\\nAnswer:\"\n",
    "    ),\n",
    "}"
   ],
   "id": "69d2bae04ec628d4",
   "outputs": [],
   "execution_count": 19
  },
  {
   "metadata": {
    "ExecuteTime": {
     "end_time": "2025-10-26T22:40:05.248746Z",
     "start_time": "2025-10-26T22:40:05.245085Z"
    }
   },
   "cell_type": "code",
   "source": "results = []",
   "id": "7c149370db490a40",
   "outputs": [],
   "execution_count": 20
  },
  {
   "metadata": {
    "ExecuteTime": {
     "end_time": "2025-10-26T22:42:31.120255Z",
     "start_time": "2025-10-26T22:41:55.633641Z"
    }
   },
   "cell_type": "code",
   "source": [
    "for name, prompt in prompts.items():\n",
    "    chain = prompt | llm | parser\n",
    "    for q in test_queries:\n",
    "        try:\n",
    "            resp = chain.invoke({\"query\": q})\n",
    "        except Exception as e:\n",
    "            resp = f\"Error: {e}\"\n",
    "        results.append({\n",
    "            \"prompt_variant\": name,\n",
    "            \"query\": q,\n",
    "            \"response\": resp\n",
    "        })"
   ],
   "id": "9dd52cf1e834d08a",
   "outputs": [],
   "execution_count": 23
  },
  {
   "metadata": {
    "ExecuteTime": {
     "end_time": "2025-10-26T22:42:34.347355Z",
     "start_time": "2025-10-26T22:42:34.343357Z"
    }
   },
   "cell_type": "code",
   "source": "df_results = pd.DataFrame(results, columns=[\"prompt_variant\", \"query\", \"response\"])",
   "id": "23dcc71ff17b0112",
   "outputs": [],
   "execution_count": 24
  },
  {
   "metadata": {
    "ExecuteTime": {
     "end_time": "2025-10-26T22:42:35.882909Z",
     "start_time": "2025-10-26T22:42:35.875161Z"
    }
   },
   "cell_type": "code",
   "source": [
    "print(\"shape:\", df_results.shape)\n",
    "print(\"cols:\", df_results.columns.tolist())\n",
    "display(df_results.head())"
   ],
   "id": "a647f46af4eeba7",
   "outputs": [
    {
     "name": "stdout",
     "output_type": "stream",
     "text": [
      "shape: (15, 3)\n",
      "cols: ['prompt_variant', 'query', 'response']\n"
     ]
    },
    {
     "data": {
      "text/plain": [
       "  prompt_variant                                              query  \\\n",
       "0       baseline           I was charged twice for my last invoice.   \n",
       "1       baseline               My password reset link doesn’t work.   \n",
       "2       baseline   Can I change my email address for notifications?   \n",
       "3       baseline  Nie mogę zalogować się na moje konto mimo popr...   \n",
       "4       baseline         Please cancel my subscription immediately.   \n",
       "\n",
       "                                            response  \n",
       "0   Billing. This message indicates that the cust...  \n",
       "1                                   Technical Issue.  \n",
       "2                                 Category: Account.  \n",
       "3   Technical Issue (Account-related)\\n\\nExplanat...  \n",
       "4   Based on the given message, it can be classif...  "
      ],
      "text/html": [
       "<div>\n",
       "<style scoped>\n",
       "    .dataframe tbody tr th:only-of-type {\n",
       "        vertical-align: middle;\n",
       "    }\n",
       "\n",
       "    .dataframe tbody tr th {\n",
       "        vertical-align: top;\n",
       "    }\n",
       "\n",
       "    .dataframe thead th {\n",
       "        text-align: right;\n",
       "    }\n",
       "</style>\n",
       "<table border=\"1\" class=\"dataframe\">\n",
       "  <thead>\n",
       "    <tr style=\"text-align: right;\">\n",
       "      <th></th>\n",
       "      <th>prompt_variant</th>\n",
       "      <th>query</th>\n",
       "      <th>response</th>\n",
       "    </tr>\n",
       "  </thead>\n",
       "  <tbody>\n",
       "    <tr>\n",
       "      <th>0</th>\n",
       "      <td>baseline</td>\n",
       "      <td>I was charged twice for my last invoice.</td>\n",
       "      <td>Billing. This message indicates that the cust...</td>\n",
       "    </tr>\n",
       "    <tr>\n",
       "      <th>1</th>\n",
       "      <td>baseline</td>\n",
       "      <td>My password reset link doesn’t work.</td>\n",
       "      <td>Technical Issue.</td>\n",
       "    </tr>\n",
       "    <tr>\n",
       "      <th>2</th>\n",
       "      <td>baseline</td>\n",
       "      <td>Can I change my email address for notifications?</td>\n",
       "      <td>Category: Account.</td>\n",
       "    </tr>\n",
       "    <tr>\n",
       "      <th>3</th>\n",
       "      <td>baseline</td>\n",
       "      <td>Nie mogę zalogować się na moje konto mimo popr...</td>\n",
       "      <td>Technical Issue (Account-related)\\n\\nExplanat...</td>\n",
       "    </tr>\n",
       "    <tr>\n",
       "      <th>4</th>\n",
       "      <td>baseline</td>\n",
       "      <td>Please cancel my subscription immediately.</td>\n",
       "      <td>Based on the given message, it can be classif...</td>\n",
       "    </tr>\n",
       "  </tbody>\n",
       "</table>\n",
       "</div>"
      ]
     },
     "metadata": {},
     "output_type": "display_data",
     "jetTransient": {
      "display_id": null
     }
    }
   ],
   "execution_count": 25
  }
 ],
 "metadata": {
  "kernelspec": {
   "display_name": "Python 3",
   "language": "python",
   "name": "python3"
  },
  "language_info": {
   "codemirror_mode": {
    "name": "ipython",
    "version": 2
   },
   "file_extension": ".py",
   "mimetype": "text/x-python",
   "name": "python",
   "nbconvert_exporter": "python",
   "pygments_lexer": "ipython2",
   "version": "2.7.6"
  }
 },
 "nbformat": 4,
 "nbformat_minor": 5
}
