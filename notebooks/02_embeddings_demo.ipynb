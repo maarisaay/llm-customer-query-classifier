{
 "cells": [
  {
   "cell_type": "code",
   "id": "initial_id",
   "metadata": {
    "collapsed": true,
    "ExecuteTime": {
     "end_time": "2025-10-26T22:12:00.259113Z",
     "start_time": "2025-10-26T22:11:55.214846Z"
    }
   },
   "source": [
    "from app.ingestion import run_ingestion_pipeline\n",
    "from app.embeddings import get_embeddings"
   ],
   "outputs": [
    {
     "name": "stderr",
     "output_type": "stream",
     "text": [
      "C:\\Users\\marty\\PycharmProjects\\llm-customer-query-classifier\\.venv\\Lib\\site-packages\\tqdm\\auto.py:21: TqdmWarning: IProgress not found. Please update jupyter and ipywidgets. See https://ipywidgets.readthedocs.io/en/stable/user_install.html\n",
      "  from .autonotebook import tqdm as notebook_tqdm\n"
     ]
    }
   ],
   "execution_count": 1
  },
  {
   "metadata": {
    "ExecuteTime": {
     "end_time": "2025-10-26T22:12:01.031230Z",
     "start_time": "2025-10-26T22:12:00.261630Z"
    }
   },
   "cell_type": "code",
   "source": [
    "import pandas as pd\n",
    "import numpy as np\n",
    "from pathlib import Path\n",
    "from sklearn.metrics.pairwise import cosine_similarity"
   ],
   "id": "17a7780627e2d105",
   "outputs": [],
   "execution_count": 2
  },
  {
   "metadata": {
    "ExecuteTime": {
     "end_time": "2025-10-26T22:12:01.041506Z",
     "start_time": "2025-10-26T22:12:01.035203Z"
    }
   },
   "cell_type": "code",
   "source": "pd.set_option(\"max_colwidth\", 100)",
   "id": "2f11e4fd63841752",
   "outputs": [],
   "execution_count": 3
  },
  {
   "metadata": {
    "ExecuteTime": {
     "end_time": "2025-10-26T22:12:01.052794Z",
     "start_time": "2025-10-26T22:12:01.049364Z"
    }
   },
   "cell_type": "code",
   "source": "data_path = Path.cwd().parent / \"data\" / \"messages_02.csv\"",
   "id": "c0bc4a3556af0975",
   "outputs": [],
   "execution_count": 4
  },
  {
   "metadata": {
    "ExecuteTime": {
     "end_time": "2025-10-26T22:12:02.344089Z",
     "start_time": "2025-10-26T22:12:01.746926Z"
    }
   },
   "cell_type": "code",
   "source": [
    "df_clean = run_ingestion_pipeline(data_path)\n",
    "print(f\"Loaded and cleaned {len(df_clean)} messages\")"
   ],
   "id": "d00d75cd73eb6466",
   "outputs": [
    {
     "name": "stdout",
     "output_type": "stream",
     "text": [
      "Loaded 5 rows from C:\\Users\\marty\\PycharmProjects\\llm-customer-query-classifier\\data\\messages_02.csv\n",
      "Cleaned 5 messages\n",
      "Loaded and cleaned 5 messages\n"
     ]
    }
   ],
   "execution_count": 5
  },
  {
   "metadata": {
    "ExecuteTime": {
     "end_time": "2025-10-26T22:12:03.377352Z",
     "start_time": "2025-10-26T22:12:03.356818Z"
    }
   },
   "cell_type": "code",
   "source": "df_clean[[\"message\", \"clean_message\", \"language\", \"has_pii\"]].head()",
   "id": "3216fcbc4911049f",
   "outputs": [
    {
     "data": {
      "text/plain": [
       "                                                                     message  \\\n",
       "0  Hello, I was charged twice!!! 😡 Please fix this ASAP!!! <br> Thanks, Mike   \n",
       "1                      My password reset link doesn’t work. Can you help me?   \n",
       "2  When will my subscription renew? I want to cancel before the next charge.   \n",
       "3                                           hi <br> invoice 223 paid? thanks   \n",
       "4         Nie mogę zalogować się na moje konto, mimo że hasło jest poprawne.   \n",
       "\n",
       "                                                             clean_message  \\\n",
       "0               hello i was charged twice please fix this asap thanks mike   \n",
       "1                      my password reset link doesn t work can you help me   \n",
       "2  when will my subscription renew i want to cancel before the next charge   \n",
       "3                                             hi invoice [num] paid thanks   \n",
       "4         nie mogę zalogować się na moje konto mimo że hasło jest poprawne   \n",
       "\n",
       "  language  has_pii  \n",
       "0       en    False  \n",
       "1       en    False  \n",
       "2       en    False  \n",
       "3       en     True  \n",
       "4       pl    False  "
      ],
      "text/html": [
       "<div>\n",
       "<style scoped>\n",
       "    .dataframe tbody tr th:only-of-type {\n",
       "        vertical-align: middle;\n",
       "    }\n",
       "\n",
       "    .dataframe tbody tr th {\n",
       "        vertical-align: top;\n",
       "    }\n",
       "\n",
       "    .dataframe thead th {\n",
       "        text-align: right;\n",
       "    }\n",
       "</style>\n",
       "<table border=\"1\" class=\"dataframe\">\n",
       "  <thead>\n",
       "    <tr style=\"text-align: right;\">\n",
       "      <th></th>\n",
       "      <th>message</th>\n",
       "      <th>clean_message</th>\n",
       "      <th>language</th>\n",
       "      <th>has_pii</th>\n",
       "    </tr>\n",
       "  </thead>\n",
       "  <tbody>\n",
       "    <tr>\n",
       "      <th>0</th>\n",
       "      <td>Hello, I was charged twice!!! 😡 Please fix this ASAP!!! &lt;br&gt; Thanks, Mike</td>\n",
       "      <td>hello i was charged twice please fix this asap thanks mike</td>\n",
       "      <td>en</td>\n",
       "      <td>False</td>\n",
       "    </tr>\n",
       "    <tr>\n",
       "      <th>1</th>\n",
       "      <td>My password reset link doesn’t work. Can you help me?</td>\n",
       "      <td>my password reset link doesn t work can you help me</td>\n",
       "      <td>en</td>\n",
       "      <td>False</td>\n",
       "    </tr>\n",
       "    <tr>\n",
       "      <th>2</th>\n",
       "      <td>When will my subscription renew? I want to cancel before the next charge.</td>\n",
       "      <td>when will my subscription renew i want to cancel before the next charge</td>\n",
       "      <td>en</td>\n",
       "      <td>False</td>\n",
       "    </tr>\n",
       "    <tr>\n",
       "      <th>3</th>\n",
       "      <td>hi &lt;br&gt; invoice 223 paid? thanks</td>\n",
       "      <td>hi invoice [num] paid thanks</td>\n",
       "      <td>en</td>\n",
       "      <td>True</td>\n",
       "    </tr>\n",
       "    <tr>\n",
       "      <th>4</th>\n",
       "      <td>Nie mogę zalogować się na moje konto, mimo że hasło jest poprawne.</td>\n",
       "      <td>nie mogę zalogować się na moje konto mimo że hasło jest poprawne</td>\n",
       "      <td>pl</td>\n",
       "      <td>False</td>\n",
       "    </tr>\n",
       "  </tbody>\n",
       "</table>\n",
       "</div>"
      ]
     },
     "execution_count": 6,
     "metadata": {},
     "output_type": "execute_result"
    }
   ],
   "execution_count": 6
  },
  {
   "metadata": {
    "ExecuteTime": {
     "end_time": "2025-10-26T22:12:05.556314Z",
     "start_time": "2025-10-26T22:12:05.550414Z"
    }
   },
   "cell_type": "code",
   "source": "sample_texts = df_clean[\"clean_message\"].head(5).tolist()",
   "id": "a895a00268232ef5",
   "outputs": [],
   "execution_count": 7
  },
  {
   "metadata": {
    "ExecuteTime": {
     "end_time": "2025-10-26T22:12:10.840870Z",
     "start_time": "2025-10-26T22:12:06.440750Z"
    }
   },
   "cell_type": "code",
   "source": [
    "print(\"Generating embeddings...\")\n",
    "embeddings = get_embeddings(sample_texts)"
   ],
   "id": "18a3fa58609e59f9",
   "outputs": [
    {
     "name": "stdout",
     "output_type": "stream",
     "text": [
      "Generating embeddings...\n"
     ]
    }
   ],
   "execution_count": 8
  },
  {
   "metadata": {
    "ExecuteTime": {
     "end_time": "2025-10-26T22:13:28.519308Z",
     "start_time": "2025-10-26T22:13:28.512107Z"
    }
   },
   "cell_type": "code",
   "source": [
    "print(type(embeddings))\n",
    "print(f\"Number of embeddings: {len(embeddings)}\")\n",
    "print(f\"Shape of one embedding vector: {np.array(embeddings[0]).shape}\")"
   ],
   "id": "20fdd2878e7f76f5",
   "outputs": [
    {
     "name": "stdout",
     "output_type": "stream",
     "text": [
      "<class 'list'>\n",
      "Number of embeddings: 5\n",
      "Shape of one embedding vector: (384,)\n"
     ]
    }
   ],
   "execution_count": 9
  },
  {
   "metadata": {
    "ExecuteTime": {
     "end_time": "2025-10-26T22:13:49.136141Z",
     "start_time": "2025-10-26T22:13:49.131310Z"
    }
   },
   "cell_type": "code",
   "source": "print(embeddings[0][:10])",
   "id": "d7993da213bd53bd",
   "outputs": [
    {
     "name": "stdout",
     "output_type": "stream",
     "text": [
      "[-0.02339773438870907, 0.029478492215275764, 0.06735624372959137, 0.05026502534747124, -0.0013724637683480978, -0.021969133988022804, 0.024070285260677338, -0.061533864587545395, 0.04198594018816948, 0.01188781950622797]\n"
     ]
    }
   ],
   "execution_count": 10
  }
 ],
 "metadata": {
  "kernelspec": {
   "display_name": "Python 3 (ipykernel)",
   "language": "python",
   "name": "python3"
  },
  "language_info": {
   "codemirror_mode": {
    "name": "ipython",
    "version": 2
   },
   "file_extension": ".py",
   "mimetype": "text/x-python",
   "name": "python",
   "nbconvert_exporter": "python",
   "pygments_lexer": "ipython2",
   "version": "2.7.6"
  }
 },
 "nbformat": 4,
 "nbformat_minor": 5
}
